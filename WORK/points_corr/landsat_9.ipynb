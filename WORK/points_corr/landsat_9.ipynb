{
 "cells": [
  {
   "cell_type": "markdown",
   "id": "71885269-a908-41ab-abc4-cb7b833f9eed",
   "metadata": {},
   "source": [
    "# import the libraries"
   ]
  },
  {
   "cell_type": "code",
   "execution_count": 22,
   "id": "ea260876-d8f1-4f8f-a70a-b398860c617b",
   "metadata": {},
   "outputs": [],
   "source": [
    "import ee\n",
    "import pandas as pd\n",
    "import numpy as np\n",
    "import seaborn as sns\n",
    "import matplotlib.pyplot as plt"
   ]
  },
  {
   "cell_type": "markdown",
   "id": "00a82899-d66c-4457-8e10-bc0bd469689b",
   "metadata": {},
   "source": [
    "# Authentication and Initialization \n",
    "  - Before you can make requests to Earth Engine through a client library, you must authenticate "
   ]
  },
  {
   "cell_type": "code",
   "execution_count": 24,
   "id": "e31ff224-6ea1-4bb4-8cf5-e685632a0c44",
   "metadata": {},
   "outputs": [
    {
     "data": {
      "text/plain": [
       "True"
      ]
     },
     "execution_count": 24,
     "metadata": {},
     "output_type": "execute_result"
    }
   ],
   "source": [
    "ee.Authenticate()"
   ]
  },
  {
   "cell_type": "code",
   "execution_count": 25,
   "id": "62fc9b87-c6e5-4e5d-a1d2-115621a613e0",
   "metadata": {},
   "outputs": [],
   "source": [
    "ee.Initialize()"
   ]
  },
  {
   "cell_type": "markdown",
   "id": "e3531d28-6493-4c5c-b1d9-2e024a40b066",
   "metadata": {},
   "source": [
    " # Getting statistics of the points"
   ]
  },
  {
   "cell_type": "code",
   "execution_count": 27,
   "id": "2905aa82-6c5d-41b0-91d4-83f2db2bce4f",
   "metadata": {},
   "outputs": [],
   "source": [
    "#dowenload the image collection and filter it with date and get the median image\n",
    "dataset = ee.ImageCollection('LANDSAT/LC09/C02/T1_L2').filterDate('2022-09-01', '2022-09-30').median()  "
   ]
  },
  {
   "cell_type": "code",
   "execution_count": 28,
   "id": "c8fbd85b-a73e-41bb-a7e1-3821a6731270",
   "metadata": {},
   "outputs": [],
   "source": [
    "# Define the points (coordinates) we want to make analysis on it\n",
    "points = [\n",
    "    [30.488472, 31.173472],\n",
    "    [30.524722, 31.151861],\n",
    "    [30.566028, 31.130972],\n",
    "    [30.647556, 31.077806],\n",
    "    [30.734028, 31.028500],\n",
    "    [30.807556, 31.013361],\n",
    "    [30.790639, 30.965194],\n",
    "    [30.801278, 30.913278],\n",
    "    [30.815306, 30.904389],\n",
    "    [30.848333, 30.901222],\n",
    "    [30.876917, 30.873500],\n",
    "    [30.899056, 30.856250],\n",
    "    [30.930333, 30.835639],\n",
    "    [30.961583, 30.783083],\n",
    "    [31.003111, 30.759333],\n",
    "    [31.043556, 30.735694],\n",
    "    [31.085667, 30.727861],\n",
    "    [31.101222, 30.683639],\n",
    "    [31.143611, 30.645361],\n",
    "    [31.182500, 30.600361],\n",
    "    [31.207500,30.569444],\n",
    "    [31.224444,30.531583],\n",
    "    [31.264361,30.518389],\n",
    "    [31.311250,30.515528],\n",
    "    [31.344417,30.482861],\n",
    "    [30.851444,31.030083],\n",
    "    [30.894389,31.024361],\n",
    "    [30.893667,31.024667],\n",
    "    [30.931611,30.990083],\n",
    "    [30.980056,30.970417],\n",
    "    [31.031639,30.961556],\n",
    "    [31.085750,30.965417],\n",
    "    [31.142111,30.968861],\n",
    "    [31.214722,30.984111],\n",
    "    [31.268806,30.990528],\n",
    "    [31.261778,31.049611],\n",
    "    [31.278194,31.093417],\n",
    "    [31.328944,31.132139],\n",
    "    [31.399000,31.125000],\n",
    "    [31.471750,31.126861],\n",
    "    [31.526444,31.140306],\n",
    "    [31.565361,31.081889],\n",
    "    [31.586472,31.052500],\n",
    "    [31.412167,30.451000],\n",
    "    [31.340417,30.366278],\n",
    "    [31.205000,30.091444],\n",
    "    [31.167278,30.069167],\n",
    "    [31.128167,30.102194],\n",
    "    [31.120861,30.164528],\n",
    "    [31.108250,30.211944],\n",
    "    [31.086417,30.294417],\n",
    "    [31.069194,30.359806],\n",
    "    [31.013250,30.473583],\n",
    "]\n"
   ]
  },
  {
   "cell_type": "code",
   "execution_count": 29,
   "id": "fa5a90f7-62fa-4166-a40f-a256ddaecb3d",
   "metadata": {},
   "outputs": [],
   "source": [
    "# Create a feature collection from the points\n",
    "features = ee.FeatureCollection([ee.Feature(ee.Geometry.Point(coord)) for coord in points])"
   ]
  },
  {
   "cell_type": "code",
   "execution_count": 30,
   "id": "e6fbbeae-b98a-4ec9-90cd-69dc8410e1b3",
   "metadata": {},
   "outputs": [],
   "source": [
    "# Function to get statistics for each point\n",
    "def get_statistics(feature):\n",
    "    point = feature.geometry()\n",
    "    # Calculate the median for each band in the median image\n",
    "    stats = dataset.reduceRegion(\n",
    "        reducer=ee.Reducer.median(),\n",
    "        geometry=point,\n",
    "        scale=30  # resolution in meters\n",
    "    )\n",
    "    return feature.set(stats)"
   ]
  },
  {
   "cell_type": "code",
   "execution_count": 31,
   "id": "1b476fa2-d218-4930-ac08-b0464986e2c7",
   "metadata": {},
   "outputs": [],
   "source": [
    "# Apply the function to each feature(point) in the features collection\n",
    "stats_features = features.map(get_statistics)"
   ]
  },
  {
   "cell_type": "markdown",
   "id": "8266b260-3406-488f-881b-ea88656643c7",
   "metadata": {},
   "source": [
    "# Prepare to create the statistics data table to store the result"
   ]
  },
  {
   "cell_type": "code",
   "execution_count": 33,
   "id": "7a036e61-d4f1-45a8-9f68-6cf87e6a545d",
   "metadata": {},
   "outputs": [],
   "source": [
    "# identify the tabel header\n",
    "data_table = {\n",
    "    'longitude': [],\n",
    "    'latitude': [],\n",
    "    'SR_B1': [],\n",
    "    'SR_B2': [],\n",
    "    'SR_B3': [],\n",
    "    'SR_B4': [],\n",
    "    'SR_B5': [],\n",
    "    'SR_B6': [],\n",
    "    'SR_B7': []\n",
    "}"
   ]
  },
  {
   "cell_type": "raw",
   "id": "89a77238-2c36-4ecc-9f82-86a11fc49b49",
   "metadata": {},
   "source": [
    "# Note:\n",
    "  -evaluate the feature collection it mean to get the features data from server-side to client-side to \n",
    "   allowing you to work with it in Python"
   ]
  },
  {
   "cell_type": "code",
   "execution_count": 34,
   "id": "e3d769d5-9c09-4705-8590-7b4ccbc3ebb3",
   "metadata": {},
   "outputs": [],
   "source": [
    "# evaluate the data\n",
    "stats_features.getInfo().get('features', [])\n",
    "for f in stats_features.getInfo().get('features', []):\n",
    "    coords = f['geometry']['coordinates']\n",
    "    properties = f['properties']\n",
    "    \n",
    "    data_table['longitude'].append(coords[0])\n",
    "    data_table['latitude'].append(coords[1])\n",
    "    data_table['SR_B1'].append(properties.get('SR_B1'))\n",
    "    data_table['SR_B2'].append(properties.get('SR_B2'))\n",
    "    data_table['SR_B3'].append(properties.get('SR_B3'))\n",
    "    data_table['SR_B4'].append(properties.get('SR_B4'))\n",
    "    data_table['SR_B5'].append(properties.get('SR_B5'))\n",
    "    data_table['SR_B6'].append(properties.get('SR_B6'))\n",
    "    data_table['SR_B7'].append(properties.get('SR_B7'))\n",
    "    "
   ]
  },
  {
   "cell_type": "code",
   "execution_count": 35,
   "id": "872450e6-df99-4caa-a8ff-ebc8f49d26d7",
   "metadata": {},
   "outputs": [
    {
     "name": "stdout",
     "output_type": "stream",
     "text": [
      "    longitude   latitude    SR_B1    SR_B2    SR_B3    SR_B4    SR_B5  \\\n",
      "0   30.488472  31.173472   8650.5   9009.5  10024.5  10146.5  15470.0   \n",
      "1   30.524722  31.151861   8013.5   8290.0   9328.0   9051.0  16040.0   \n",
      "2   30.566028  31.130972   8358.5   8715.5   9803.0   9831.5  15446.5   \n",
      "3   30.647556  31.077806   8746.5   9189.0  10220.0  10775.0  16168.5   \n",
      "4   30.734028  31.028500   8013.5   8367.0   9608.0   9206.5  17916.5   \n",
      "5   30.807556  31.013361   8337.5   8846.5   9854.5  10047.0  14041.0   \n",
      "6   30.790639  30.965194   8425.0   8779.5   9617.0   9734.0  15041.5   \n",
      "7   30.801278  30.913278  13400.5  14098.5  15699.5  16159.5  20067.5   \n",
      "8   30.815306  30.904389   8631.0   9057.5   9857.0  10420.0  12576.5   \n",
      "9   30.848333  30.901222   8187.5   8474.0   9510.5   9359.5  17257.5   \n",
      "10  30.876917  30.873500  10003.0  10417.0  11619.5  12501.0  14581.5   \n",
      "11  30.899056  30.856250   8698.0   9047.5   9895.5  10234.5  14260.5   \n",
      "12  30.930333  30.835639   8207.0   8586.5  10018.0   9678.0  18993.5   \n",
      "13  30.961583  30.783083   8307.0   8716.5   9705.0  10041.0  14483.5   \n",
      "14  31.003111  30.759333   8190.5   8505.0   9671.0   9424.5  16953.5   \n",
      "15  31.043556  30.735694   8260.0   8535.0   9448.0   9307.0  16163.0   \n",
      "16  31.085667  30.727861   8865.0   9283.0  10236.0  10742.0  14106.5   \n",
      "17  31.101222  30.683639   9324.5   9668.0  10536.0  11296.0  13863.0   \n",
      "18  31.143611  30.645361   8710.0   9059.5  10062.0  10348.5  17646.0   \n",
      "19  31.182500  30.600361   8781.0   9110.5  10170.5  10647.0  15407.5   \n",
      "20  31.207500  30.569444   9176.0   9554.5  10688.5  11447.0  15353.0   \n",
      "21  31.224444  30.531583   9625.0  10004.0  11249.5  12103.5  15939.5   \n",
      "22  31.264361  30.518389   9303.0   9654.0  10606.5  11299.5  15732.5   \n",
      "23  31.311250  30.515528   9150.0   9489.5  10529.5  11034.5  16491.0   \n",
      "24  31.344417  30.482861   8458.0   8751.5  10003.5   9456.5  20004.0   \n",
      "25  30.851444  31.030083   8346.5   8784.5  10349.0  10126.5  19691.5   \n",
      "26  30.894389  31.024361   8842.0   9437.5  12161.5  12005.0  21143.5   \n",
      "27  30.893667  31.024667  10228.5  10912.0  13097.0  13409.0  22722.0   \n",
      "28  30.931611  30.990083   7906.0   8242.0   9437.0   9120.0  17827.0   \n",
      "29  30.980056  30.970417   8140.5   8559.0   9879.5   9622.0  19401.5   \n",
      "30  31.031639  30.961556   9917.0  10753.0  13324.5  13315.0  22627.5   \n",
      "31  31.085750  30.965417   8962.5   9439.5  10425.0  11272.5  15017.5   \n",
      "32  31.142111  30.968861   8912.0   9380.0  10419.0  11101.5  14405.5   \n",
      "33  31.214722  30.984111   8581.5   8979.0  10488.0  10316.0  21351.0   \n",
      "34  31.268806  30.990528   8907.0   9515.5  10788.5  11608.0  17889.5   \n",
      "35  31.261778  31.049611   8463.5   8678.5   9722.5   9272.5  18953.0   \n",
      "36  31.278194  31.093417   8214.0   8530.0   9840.5   9580.0  20368.5   \n",
      "37  31.328944  31.132139   8265.0   8788.0  10393.5  10392.5  19468.5   \n",
      "38  31.399000  31.125000   9081.0   9466.0  10581.0  11164.0  14380.0   \n",
      "39  31.471750  31.126861   7824.0   8274.0   9467.5   9098.0  17364.0   \n",
      "40  31.526444  31.140306   8542.5   8984.5  10136.5  10459.0  16980.5   \n",
      "41  31.565361  31.081889   8656.5   8975.5  10319.0  10254.0  20750.0   \n",
      "42  31.586472  31.052500   9159.0   9401.0  10386.5  10217.5  22198.5   \n",
      "43  31.412167  30.451000   9465.0  10060.5  11699.5  12163.5  18969.0   \n",
      "44  31.340417  30.366278   8558.0   8827.5   9742.0  10040.5  13137.5   \n",
      "45  31.205000  30.091444  10378.5  11060.5  12431.0  13653.5  15320.0   \n",
      "46  31.167278  30.069167  10230.0  10681.0  11889.5  12962.0  16585.5   \n",
      "47  31.128167  30.102194   8899.0   9173.0  10092.0  10190.5  15870.5   \n",
      "48  31.120861  30.164528   8844.0   9149.0  10286.0  10216.0  17160.0   \n",
      "49  31.108250  30.211944   8473.5   8719.0   9590.0   9658.5  16052.0   \n",
      "50  31.086417  30.294417   8165.5   8449.5   9568.0   9090.5  18385.5   \n",
      "51  31.069194  30.359806   8398.0   8733.0   9817.5   9921.5  16516.0   \n",
      "52  31.013250  30.473583   8398.0   8882.0  10122.0   9977.0  18022.5   \n",
      "\n",
      "      SR_B6    SR_B7  \n",
      "0   13216.5  11122.0  \n",
      "1   11186.5   9418.0  \n",
      "2   12883.5  10696.5  \n",
      "3   15152.0  12429.5  \n",
      "4   11279.0   9290.5  \n",
      "5   11737.5  10066.5  \n",
      "6   12516.0  10591.0  \n",
      "7   18451.5  16263.5  \n",
      "8   12186.5  11228.5  \n",
      "9   12240.5   9916.0  \n",
      "10  15766.5  14805.0  \n",
      "11  12657.5  11025.5  \n",
      "12  12619.0  10009.5  \n",
      "13  12700.0  10783.0  \n",
      "14  12602.5  10322.5  \n",
      "15  12505.0  10212.0  \n",
      "16  13194.5  11554.0  \n",
      "17  13877.5  12762.5  \n",
      "18  13793.0  11296.0  \n",
      "19  14079.0  11960.5  \n",
      "20  15254.0  12913.5  \n",
      "21  15733.0  14022.5  \n",
      "22  14945.0  12928.5  \n",
      "23  15796.0  13045.0  \n",
      "24  13972.5  10702.0  \n",
      "25  13182.0  10324.5  \n",
      "26  16317.0  13635.5  \n",
      "27  16665.0  13797.5  \n",
      "28  11539.0   9371.0  \n",
      "29  12543.5   9962.0  \n",
      "30  16666.5  13555.0  \n",
      "31  14673.5  12558.5  \n",
      "32  13846.0  12224.0  \n",
      "33  13819.0  10761.5  \n",
      "34  15705.5  12876.0  \n",
      "35  13996.0  10747.0  \n",
      "36  12666.5  10076.5  \n",
      "37  12966.5  10261.5  \n",
      "38  13963.5  12216.5  \n",
      "39  13331.5  10429.5  \n",
      "40  13568.0  11074.5  \n",
      "41  14690.5  11649.5  \n",
      "42  15334.0  11595.5  \n",
      "43  15520.5  13444.5  \n",
      "44  12331.0  10972.0  \n",
      "45  16778.5  15987.5  \n",
      "46  16657.5  14767.5  \n",
      "47  13749.5  11440.5  \n",
      "48  14217.0  11553.0  \n",
      "49  13431.5  11011.5  \n",
      "50  13159.0  10508.5  \n",
      "51  13507.5  11310.5  \n",
      "52  14055.5  11238.0  \n",
      "Results saved to land9_statistics_results.csv\n"
     ]
    }
   ],
   "source": [
    "# Create a DataFrame to display statistics\n",
    "df = pd.DataFrame(data_table)\n",
    "\n",
    "# Print the DataFrame\n",
    "print(df)\n",
    "# save result to csv file\n",
    "csv_filename = 'land9_statistics_results.csv'\n",
    "df.to_csv(csv_filename, index=False)\n",
    "print(f'Results saved to {csv_filename}')"
   ]
  },
  {
   "cell_type": "markdown",
   "id": "e9187a52-16fd-42ee-b139-5a396244cffe",
   "metadata": {},
   "source": [
    "# calculate the correlation between bands and HM"
   ]
  },
  {
   "cell_type": "code",
   "execution_count": 37,
   "id": "47b0bb30-ef1d-45a5-b5fb-af363314534f",
   "metadata": {},
   "outputs": [
    {
     "data": {
      "text/html": [
       "<div>\n",
       "<style scoped>\n",
       "    .dataframe tbody tr th:only-of-type {\n",
       "        vertical-align: middle;\n",
       "    }\n",
       "\n",
       "    .dataframe tbody tr th {\n",
       "        vertical-align: top;\n",
       "    }\n",
       "\n",
       "    .dataframe thead th {\n",
       "        text-align: right;\n",
       "    }\n",
       "</style>\n",
       "<table border=\"1\" class=\"dataframe\">\n",
       "  <thead>\n",
       "    <tr style=\"text-align: right;\">\n",
       "      <th></th>\n",
       "      <th>longitude</th>\n",
       "      <th>latitude</th>\n",
       "      <th>SR_B1</th>\n",
       "      <th>SR_B2</th>\n",
       "      <th>SR_B3</th>\n",
       "      <th>SR_B4</th>\n",
       "      <th>SR_B5</th>\n",
       "      <th>SR_B6</th>\n",
       "      <th>SR_B7</th>\n",
       "    </tr>\n",
       "  </thead>\n",
       "  <tbody>\n",
       "    <tr>\n",
       "      <th>0</th>\n",
       "      <td>30.488472</td>\n",
       "      <td>31.173472</td>\n",
       "      <td>8650.5</td>\n",
       "      <td>9009.5</td>\n",
       "      <td>10024.5</td>\n",
       "      <td>10146.5</td>\n",
       "      <td>15470.0</td>\n",
       "      <td>13216.5</td>\n",
       "      <td>11122.0</td>\n",
       "    </tr>\n",
       "    <tr>\n",
       "      <th>1</th>\n",
       "      <td>30.524722</td>\n",
       "      <td>31.151861</td>\n",
       "      <td>8013.5</td>\n",
       "      <td>8290.0</td>\n",
       "      <td>9328.0</td>\n",
       "      <td>9051.0</td>\n",
       "      <td>16040.0</td>\n",
       "      <td>11186.5</td>\n",
       "      <td>9418.0</td>\n",
       "    </tr>\n",
       "    <tr>\n",
       "      <th>2</th>\n",
       "      <td>30.566028</td>\n",
       "      <td>31.130972</td>\n",
       "      <td>8358.5</td>\n",
       "      <td>8715.5</td>\n",
       "      <td>9803.0</td>\n",
       "      <td>9831.5</td>\n",
       "      <td>15446.5</td>\n",
       "      <td>12883.5</td>\n",
       "      <td>10696.5</td>\n",
       "    </tr>\n",
       "    <tr>\n",
       "      <th>3</th>\n",
       "      <td>30.647556</td>\n",
       "      <td>31.077806</td>\n",
       "      <td>8746.5</td>\n",
       "      <td>9189.0</td>\n",
       "      <td>10220.0</td>\n",
       "      <td>10775.0</td>\n",
       "      <td>16168.5</td>\n",
       "      <td>15152.0</td>\n",
       "      <td>12429.5</td>\n",
       "    </tr>\n",
       "    <tr>\n",
       "      <th>4</th>\n",
       "      <td>30.734028</td>\n",
       "      <td>31.028500</td>\n",
       "      <td>8013.5</td>\n",
       "      <td>8367.0</td>\n",
       "      <td>9608.0</td>\n",
       "      <td>9206.5</td>\n",
       "      <td>17916.5</td>\n",
       "      <td>11279.0</td>\n",
       "      <td>9290.5</td>\n",
       "    </tr>\n",
       "  </tbody>\n",
       "</table>\n",
       "</div>"
      ],
      "text/plain": [
       "   longitude   latitude   SR_B1   SR_B2    SR_B3    SR_B4    SR_B5    SR_B6  \\\n",
       "0  30.488472  31.173472  8650.5  9009.5  10024.5  10146.5  15470.0  13216.5   \n",
       "1  30.524722  31.151861  8013.5  8290.0   9328.0   9051.0  16040.0  11186.5   \n",
       "2  30.566028  31.130972  8358.5  8715.5   9803.0   9831.5  15446.5  12883.5   \n",
       "3  30.647556  31.077806  8746.5  9189.0  10220.0  10775.0  16168.5  15152.0   \n",
       "4  30.734028  31.028500  8013.5  8367.0   9608.0   9206.5  17916.5  11279.0   \n",
       "\n",
       "     SR_B7  \n",
       "0  11122.0  \n",
       "1   9418.0  \n",
       "2  10696.5  \n",
       "3  12429.5  \n",
       "4   9290.5  "
      ]
     },
     "execution_count": 37,
     "metadata": {},
     "output_type": "execute_result"
    }
   ],
   "source": [
    "# read data and display it \n",
    "data=pd.read_csv('land9_statistics_results.csv')\n",
    "data.head()\n"
   ]
  },
  {
   "cell_type": "code",
   "execution_count": 38,
   "id": "6f5d9bbc-2cd9-42a5-9547-a9681207de84",
   "metadata": {},
   "outputs": [],
   "source": [
    "# add the HM concentration column to df\n",
    "data['HM']=[\n",
    "384.9,\n",
    "318.3,\n",
    "342.4,\n",
    "440.8,\n",
    "397.6,\n",
    "380.4,\n",
    "381.2,\n",
    "414.5,\n",
    "333.9,\n",
    "362.8,\n",
    "366.9,\n",
    "407.6,\n",
    "373.5,\n",
    "382.0,\n",
    "385.6,\n",
    "356.8,\n",
    "293.4,\n",
    "332.1,\n",
    "363.2,\n",
    "429.9,\n",
    "378.6,\n",
    "419.2,\n",
    "399.6,\n",
    "189.0,\n",
    "427.1,\n",
    "429.2,\n",
    "392.4,\n",
    "387.6,\n",
    "437.0,\n",
    "444.5,\n",
    "410.6,\n",
    "453.4,\n",
    "409.2,\n",
    "448.0,\n",
    "376.7,\n",
    "395.0,\n",
    "397.7,\n",
    "347.8,\n",
    "328.7,\n",
    "292.1,\n",
    "222.7,\n",
    "152.0,\n",
    "141.5,\n",
    "287.4,\n",
    "340.4,\n",
    "318.1,\n",
    "309.6,\n",
    "325.8,\n",
    "246.8,\n",
    "231.3,\n",
    "326.1,\n",
    "276.7,\n",
    "340.9]"
   ]
  },
  {
   "cell_type": "code",
   "execution_count": 39,
   "id": "fe877aaa-b938-4ba4-903e-217130c88c3b",
   "metadata": {},
   "outputs": [
    {
     "name": "stdout",
     "output_type": "stream",
     "text": [
      "longitude   -0.457153\n",
      "latitude     0.234361\n",
      "SR_B1        0.021815\n",
      "SR_B2        0.051230\n",
      "SR_B3        0.105552\n",
      "SR_B4        0.086310\n",
      "SR_B5       -0.006909\n",
      "SR_B6       -0.083402\n",
      "SR_B7       -0.035892\n",
      "HM           1.000000\n",
      "Name: HM, dtype: float64\n"
     ]
    }
   ],
   "source": [
    "# split the target(HM) and get correlation between it and features(bands)\n",
    "target='HM'\n",
    "#pearson correlation\n",
    "corr=data.corr()[target]\n",
    "print(corr)"
   ]
  },
  {
   "cell_type": "code",
   "execution_count": 40,
   "id": "72ccfd76-429d-4494-ac7d-a20fc1b8c05e",
   "metadata": {},
   "outputs": [
    {
     "name": "stdout",
     "output_type": "stream",
     "text": [
      "longitude   -0.338978\n",
      "latitude     0.209160\n",
      "SR_B1       -0.062331\n",
      "SR_B2       -0.022416\n",
      "SR_B3        0.075391\n",
      "SR_B4        0.040639\n",
      "SR_B5        0.125141\n",
      "SR_B6       -0.033624\n",
      "SR_B7       -0.090711\n",
      "HM           1.000000\n",
      "Name: HM, dtype: float64\n"
     ]
    }
   ],
   "source": [
    "# get spearman correlation\n",
    "corr1=data.corr(method='spearman')[target]\n",
    "print(corr1)"
   ]
  },
  {
   "cell_type": "code",
   "execution_count": 41,
   "id": "b9eafd7e-0345-411b-b555-02d76017f882",
   "metadata": {},
   "outputs": [
    {
     "name": "stdout",
     "output_type": "stream",
     "text": [
      "longitude   -0.238026\n",
      "latitude     0.166909\n",
      "SR_B1       -0.043573\n",
      "SR_B2       -0.015965\n",
      "SR_B3        0.047896\n",
      "SR_B4        0.020319\n",
      "SR_B5        0.076923\n",
      "SR_B6       -0.030479\n",
      "SR_B7       -0.069666\n",
      "HM           1.000000\n",
      "Name: HM, dtype: float64\n"
     ]
    }
   ],
   "source": [
    "#kendall corr\n",
    "corr2=data.corr(method='kendall')[target]\n",
    "print(corr2)"
   ]
  },
  {
   "cell_type": "code",
   "execution_count": 42,
   "id": "8da22478-51ee-4d72-8723-6d7d46f23592",
   "metadata": {},
   "outputs": [
    {
     "name": "stdout",
     "output_type": "stream",
     "text": [
      "Correlation matrix:\n",
      " [[ 1.         -0.23913746  0.02647241  0.01353241  0.00845582  0.0383331\n",
      "   0.20832245  0.26701107  0.14877681 -0.4571532 ]\n",
      " [-0.23913746  1.         -0.19370493 -0.15849568 -0.06688187 -0.14145394\n",
      "   0.23381842 -0.2300789  -0.30642734  0.2343615 ]\n",
      " [ 0.02647241 -0.19370493  1.          0.99380662  0.92442083  0.94143804\n",
      "   0.12323703  0.82616128  0.88047077  0.02181495]\n",
      " [ 0.01353241 -0.15849568  0.99380662  1.          0.95243812  0.96518043\n",
      "   0.15205451  0.83767313  0.8881235   0.05122962]\n",
      " [ 0.00845582 -0.06688187  0.92442083  0.95243812  1.          0.95760034\n",
      "   0.36187716  0.85520992  0.8489157   0.10555203]\n",
      " [ 0.0383331  -0.14145394  0.94143804  0.96518043  0.95760034  1.\n",
      "   0.13450313  0.87185857  0.9364236   0.08631013]\n",
      " [ 0.20832245  0.23381842  0.12323703  0.15205451  0.36187716  0.13450313\n",
      "   1.          0.32899753  0.01800742 -0.00690927]\n",
      " [ 0.26701107 -0.2300789   0.82616128  0.83767313  0.85520992  0.87185857\n",
      "   0.32899753  1.          0.92576007 -0.08340245]\n",
      " [ 0.14877681 -0.30642734  0.88047077  0.8881235   0.8489157   0.9364236\n",
      "   0.01800742  0.92576007  1.         -0.03589184]\n",
      " [-0.4571532   0.2343615   0.02181495  0.05122962  0.10555203  0.08631013\n",
      "  -0.00690927 -0.08340245 -0.03589184  1.        ]]\n"
     ]
    }
   ],
   "source": [
    "# numpy correlation\n",
    "x=data.drop(columns='HM')\n",
    "y=data['HM']\n",
    "# Calculate the correlation only if they have the same number of rows\n",
    "if x.shape[0] == y.shape[0]:\n",
    "    correlation_matrix = np.corrcoef(x.T, y)  # Transpose x to have features as rows\n",
    "    print(\"Correlation matrix:\\n\", correlation_matrix)\n",
    "else:\n",
    "    print(\"Shape mismatch: Cannot calculate correlation.\")"
   ]
  },
  {
   "cell_type": "code",
   "execution_count": 43,
   "id": "5853d6a9-2e15-4683-b9c5-9f59a7286093",
   "metadata": {},
   "outputs": [
    {
     "data": {
      "image/png": "[encoded data removed]",
      "text/plain": [
       "<Figure size 1000x600 with 2 Axes>"
      ]
     },
     "metadata": {},
     "output_type": "display_data"
    }
   ],
   "source": [
    "# Visualize the correlation using a heatmap to numpy correlation\n",
    "plt.figure(figsize=(10, 6))\n",
    "sns.heatmap(correlation_matrix, annot=True, cmap='coolwarm', fmt=\".2f\", square=True)\n",
    "plt.title(\"Correlation Heatmap\")\n",
    "plt.show()"
   ]
  },
  {
   "cell_type": "code",
   "execution_count": null,
   "id": "70dacc56-c58f-44ce-9dda-31e1b652a0f7",
   "metadata": {},
   "outputs": [],
   "source": []
  }
 ],
 "metadata": {
  "kernelspec": {
   "display_name": "Python 3 (ipykernel)",
   "language": "python",
   "name": "python3"
  },
  "language_info": {
   "codemirror_mode": {
    "name": "ipython",
    "version": 3
   },
   "file_extension": ".py",
   "mimetype": "text/x-python",
   "name": "python",
   "nbconvert_exporter": "python",
   "pygments_lexer": "ipython3",
   "version": "3.12.4"
  }
 },
 "nbformat": 4,
 "nbformat_minor": 5
}
