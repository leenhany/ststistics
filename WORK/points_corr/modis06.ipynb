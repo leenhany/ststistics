{
 "cells": [
  {
   "cell_type": "markdown",
   "id": "1e88ee22-8deb-4612-96a6-91f325f3dc35",
   "metadata": {},
   "source": [
    "# import libraries"
   ]
  },
  {
   "cell_type": "code",
   "execution_count": 6,
   "id": "02cb5b2f-1467-4bf6-a96e-95d002c1f3a3",
   "metadata": {},
   "outputs": [],
   "source": [
    "import ee\n",
    "import pandas as pd\n",
    "import numpy as np\n",
    "import seaborn as sns\n",
    "import matplotlib.pyplot as plt"
   ]
  },
  {
   "cell_type": "markdown",
   "id": "c9c6b6f8-e651-4ca1-a51b-8c1773d92255",
   "metadata": {},
   "source": [
    "# Authentication and Initialization\n",
    "  -Before you can make requests to Earth Engine through a client library, you must authenticate"
   ]
  },
  {
   "cell_type": "code",
   "execution_count": 8,
   "id": "b4e4bba7-13df-469c-b818-376750cc145f",
   "metadata": {},
   "outputs": [
    {
     "data": {
      "text/plain": [
       "True"
      ]
     },
     "execution_count": 8,
     "metadata": {},
     "output_type": "execute_result"
    }
   ],
   "source": [
    "ee.Authenticate()"
   ]
  },
  {
   "cell_type": "code",
   "execution_count": 9,
   "id": "12f62f6a-ab5c-43aa-a284-3bb52d0360af",
   "metadata": {},
   "outputs": [],
   "source": [
    "ee.Initialize()"
   ]
  },
  {
   "cell_type": "markdown",
   "id": "e65d7249-f30f-4d02-8931-21472df6415a",
   "metadata": {},
   "source": [
    "# Getting statistics of the points"
   ]
  },
  {
   "cell_type": "code",
   "execution_count": 11,
   "id": "d0e66692-cb4d-48d4-94a6-8a8eadfc3f92",
   "metadata": {},
   "outputs": [],
   "source": [
    "#dowenload the image collection and filter it with date and get the median image \n",
    "dataset = ee.ImageCollection('MODIS/061/MOD09A1').filterDate('2022-09-01', '2022-09-30').median()  "
   ]
  },
  {
   "cell_type": "code",
   "execution_count": 12,
   "id": "09ffbb84-0a47-4ed2-a540-3adeb5fdd40d",
   "metadata": {},
   "outputs": [],
   "source": [
    "# Define the points (coordinates) we want to make analysis on it\n",
    "points = [\n",
    "    [30.488472, 31.173472],\n",
    "    [30.524722, 31.151861],\n",
    "    [30.566028, 31.130972],\n",
    "    [30.647556, 31.077806],\n",
    "    [30.734028, 31.028500],\n",
    "    [30.807556, 31.013361],\n",
    "    [30.790639, 30.965194],\n",
    "    [30.801278, 30.913278],\n",
    "    [30.815306, 30.904389],\n",
    "    [30.848333, 30.901222],\n",
    "    [30.876917, 30.873500],\n",
    "    [30.899056, 30.856250],\n",
    "    [30.930333, 30.835639],\n",
    "    [30.961583, 30.783083],\n",
    "    [31.003111, 30.759333],\n",
    "    [31.043556, 30.735694],\n",
    "    [31.085667, 30.727861],\n",
    "    [31.101222, 30.683639],\n",
    "    [31.143611, 30.645361],\n",
    "    [31.182500, 30.600361],\n",
    "    [31.207500,30.569444],\n",
    "    [31.224444,30.531583],\n",
    "    [31.264361,30.518389],\n",
    "    [31.311250,30.515528],\n",
    "    [31.344417,30.482861],\n",
    "    [30.851444,31.030083],\n",
    "    [30.894389,31.024361],\n",
    "    [30.893667,31.024667],\n",
    "    [30.931611,30.990083],\n",
    "    [30.980056,30.970417],\n",
    "    [31.031639,30.961556],\n",
    "    [31.085750,30.965417],\n",
    "    [31.142111,30.968861],\n",
    "    [31.214722,30.984111],\n",
    "    [31.268806,30.990528],\n",
    "    [31.261778,31.049611],\n",
    "    [31.278194,31.093417],\n",
    "    [31.328944,31.132139],\n",
    "    [31.399000,31.125000],\n",
    "    [31.471750,31.126861],\n",
    "    [31.526444,31.140306],\n",
    "    [31.565361,31.081889],\n",
    "    [31.586472,31.052500],\n",
    "    [31.412167,30.451000],\n",
    "    [31.340417,30.366278],\n",
    "    [31.205000,30.091444],\n",
    "    [31.167278,30.069167],\n",
    "    [31.128167,30.102194],\n",
    "    [31.120861,30.164528],\n",
    "    [31.108250,30.211944],\n",
    "    [31.086417,30.294417],\n",
    "    [31.069194,30.359806],\n",
    "    [31.013250,30.473583],\n",
    "]"
   ]
  },
  {
   "cell_type": "code",
   "execution_count": 13,
   "id": "27b6480a-c528-4a28-aeed-c27f45ca497d",
   "metadata": {},
   "outputs": [],
   "source": [
    "# Create a feature collection from the points\n",
    "features = ee.FeatureCollection([ee.Feature(ee.Geometry.Point(coord)) for coord in points])\n",
    "\n",
    "# Function to get statistics for each point\n",
    "def get_statistics(feature):\n",
    "    point = feature.geometry()\n",
    "    # Calculate the median for each band in the median image\n",
    "    stats = dataset.reduceRegion(\n",
    "        reducer=ee.Reducer.median(),\n",
    "        geometry=point,\n",
    "        scale=30  # resolution in meters\n",
    "    )\n",
    "    return feature.set(stats)"
   ]
  },
  {
   "cell_type": "code",
   "execution_count": 14,
   "id": "dd5a61a0-34bc-4802-ba8b-e188ad407f11",
   "metadata": {},
   "outputs": [],
   "source": [
    "# Apply the function to each feature in the features collection\n",
    "stats_features = features.map(get_statistics)"
   ]
  },
  {
   "cell_type": "markdown",
   "id": "dc842aa4-0526-4864-9ddc-e28cf2860991",
   "metadata": {},
   "source": [
    "# Prepare to create the statistics data table to store the result"
   ]
  },
  {
   "cell_type": "code",
   "execution_count": null,
   "id": "65c07e50-1c77-43ac-875d-0d9fd8049442",
   "metadata": {},
   "outputs": [],
   "source": [
    "# Prepare to create the statistics data table\n",
    "data_table = {\n",
    "    'longitude': [],\n",
    "    'latitude': [],\n",
    "    'sur_refl_b01': [],\n",
    "    'sur_refl_b02': [],\n",
    "    'sur_refl_b03': [],\n",
    "    'sur_refl_b04': [],\n",
    "    'sur_refl_b05': [],\n",
    "    'sur_refl_b06': [],\n",
    "    'sur_refl_b07': []\n",
    "}"
   ]
  },
  {
   "cell_type": "raw",
   "id": "5d0fe307-4668-4852-9d3a-5ad38dd9b49a",
   "metadata": {},
   "source": [
    "# Note:\n",
    "  -evaluate the feature collection it mean to get the features data from server-side to client-side to \n",
    "   allowing you to work with it in Python"
   ]
  },
  {
   "cell_type": "code",
   "execution_count": 16,
   "id": "15221290-72cb-4474-b8fb-c442f1f2d019",
   "metadata": {},
   "outputs": [],
   "source": [
    "# Evaluate the feature collection\n",
    "stats_features.getInfo().get('features', [])\n",
    "for f in stats_features.getInfo().get('features', []):\n",
    "    coords = f['geometry']['coordinates']\n",
    "    properties = f['properties']\n",
    "    \n",
    "    data_table['longitude'].append(coords[0])\n",
    "    data_table['latitude'].append(coords[1])\n",
    "    data_table['sur_refl_b01'].append(properties.get('sur_refl_b01'))\n",
    "    data_table['sur_refl_b02'].append(properties.get('sur_refl_b02'))\n",
    "    data_table['sur_refl_b03'].append(properties.get('sur_refl_b03'))\n",
    "    data_table['sur_refl_b04'].append(properties.get('sur_refl_b04'))\n",
    "    data_table['sur_refl_b05'].append(properties.get('sur_refl_b05'))\n",
    "    data_table['sur_refl_b06'].append(properties.get('sur_refl_b06'))\n",
    "    data_table['sur_refl_b07'].append(properties.get('sur_refl_b07'))"
   ]
  },
  {
   "cell_type": "code",
   "execution_count": 17,
   "id": "867172e0-defe-4b41-b5f8-fa0e9c328f8b",
   "metadata": {},
   "outputs": [
    {
     "name": "stdout",
     "output_type": "stream",
     "text": [
      "    longitude   latitude  sur_refl_b01  sur_refl_b02  sur_refl_b03  \\\n",
      "0   30.488472  31.173472           734          3167           448   \n",
      "1   30.524722  31.151861           879          3139           495   \n",
      "2   30.566028  31.130972           890          3036           490   \n",
      "3   30.647556  31.077806           871          2739           476   \n",
      "4   30.734028  31.028500           795          2775           479   \n",
      "5   30.807556  31.013361           713          2307           442   \n",
      "6   30.790639  30.965194           863          2228           475   \n",
      "7   30.801278  30.913278           738          2396           446   \n",
      "8   30.815306  30.904389           752          1875           442   \n",
      "9   30.848333  30.901222           728          2722           414   \n",
      "10  30.876917  30.873500           810          2232           478   \n",
      "11  30.899056  30.856250           854          2281           447   \n",
      "12  30.930333  30.835639           876          2587           447   \n",
      "13  30.961583  30.783083           781          2251           427   \n",
      "14  31.003111  30.759333           953          2310           515   \n",
      "15  31.043556  30.735694           881          1962           492   \n",
      "16  31.085667  30.727861          1016          1799           473   \n",
      "17  31.101222  30.683639          1080          2078           545   \n",
      "18  31.143611  30.645361           821          2073           440   \n",
      "19  31.182500  30.600361           882          2177           486   \n",
      "20  31.207500  30.569444           799          2252           450   \n",
      "21  31.224444  30.531583           881          1773           458   \n",
      "22  31.264361  30.518389           934          2332           490   \n",
      "23  31.311250  30.515528           935          2475           503   \n",
      "24  31.344417  30.482861           737          2855           421   \n",
      "25  30.851444  31.030083           758          3565           444   \n",
      "26  30.894389  31.024361           789          3078           420   \n",
      "27  30.893667  31.024667           789          3078           420   \n",
      "28  30.931611  30.990083          1174          3054           719   \n",
      "29  30.980056  30.970417           847          2776           434   \n",
      "30  31.031639  30.961556           621          2730           385   \n",
      "31  31.085750  30.965417           701          2445           400   \n",
      "32  31.142111  30.968861           836          2631           462   \n",
      "33  31.214722  30.984111           697          3336           394   \n",
      "34  31.268806  30.990528          1033          2049           545   \n",
      "35  31.261778  31.049611           822          2387           476   \n",
      "36  31.278194  31.093417           945          2797           535   \n",
      "37  31.328944  31.132139          1144          2522           605   \n",
      "38  31.399000  31.125000          1016          1654           531   \n",
      "39  31.471750  31.126861          1026          2911           577   \n",
      "40  31.526444  31.140306          1247          2796           643   \n",
      "41  31.565361  31.081889          1167          2911           612   \n",
      "42  31.586472  31.052500          1005          3298           539   \n",
      "43  31.412167  30.451000          1108          2653           560   \n",
      "44  31.340417  30.366278           866          2155           478   \n",
      "45  31.205000  30.091444          1446          1835           803   \n",
      "46  31.167278  30.069167          1084          2344           579   \n",
      "47  31.128167  30.102194           825          2273           513   \n",
      "48  31.120861  30.164528           913          2486           496   \n",
      "49  31.108250  30.211944           866          2052           445   \n",
      "50  31.086417  30.294417           672          2764           376   \n",
      "51  31.069194  30.359806           867          2339           408   \n",
      "52  31.013250  30.473583           758          2566           409   \n",
      "\n",
      "    sur_refl_b04  sur_refl_b05  sur_refl_b06  sur_refl_b07  \n",
      "0            776          2741          1866           981  \n",
      "1            909          2913          1957          1165  \n",
      "2            864          2754          1987          1204  \n",
      "3            789          2605          1858          1174  \n",
      "4            887          2363          1862          1125  \n",
      "5            707          2054          1437           843  \n",
      "6            818          2060          1660          1172  \n",
      "7            748          2159          1643          1154  \n",
      "8            692          1804          1490           993  \n",
      "9            730          2294          1362           798  \n",
      "10           762          2137          1637          1139  \n",
      "11           763          2013          1609          1064  \n",
      "12           766          2461          1778          1149  \n",
      "13           712          2204          1719           984  \n",
      "14           861          2242          1788          1288  \n",
      "15           759          1977          1575          1063  \n",
      "16           808          1879          1783          1357  \n",
      "17           881          2193          1966          1540  \n",
      "18           713          2020          1735          1134  \n",
      "19           778          2260          1832          1250  \n",
      "20           733          2286          1832          1160  \n",
      "21           768          1875          1606          1121  \n",
      "22           833          2381          2044          1306  \n",
      "23           842          2551          2011          1358  \n",
      "24           774          2552          1751           970  \n",
      "25           913          2782          1734           879  \n",
      "26           839          2476          1429           858  \n",
      "27           839          2476          1429           858  \n",
      "28          1125          2295          2079          1338  \n",
      "29           819          2272          1699           949  \n",
      "30           722          2354          1556           729  \n",
      "31           717          2205          1722           929  \n",
      "32           796          2274          1655           948  \n",
      "33           805          2591          1654           824  \n",
      "34           906          2152          1926          1449  \n",
      "35           787          2397          1781          1066  \n",
      "36           899          2577          1892          1139  \n",
      "37           981          2557          2127          1508  \n",
      "38           813          1778          1760          1378  \n",
      "39           942          2848          2219          1367  \n",
      "40          1084          3029          2522          1669  \n",
      "41          1011          2593          2228          1500  \n",
      "42           838          2970          2142          1364  \n",
      "43           976          2596          2152          1468  \n",
      "44           783          2170          1817          1180  \n",
      "45          1168          2017          2112          1942  \n",
      "46           942          2338          2123          1537  \n",
      "47           797          2205          1645          1003  \n",
      "48           868          2317          1921          1240  \n",
      "49           754          2065          1672          1267  \n",
      "50           691          2457          1738           995  \n",
      "51           734          2310          1955          1313  \n",
      "52           750          2338          1717          1054  \n",
      "Results saved to modis_statistics_results.csv\n"
     ]
    }
   ],
   "source": [
    "# Create a DataFrame to display statistics\n",
    "df = pd.DataFrame(data_table)\n",
    "\n",
    "# Print the DataFrame\n",
    "print(df)\n",
    "# save result to csv file\n",
    "csv_filename = 'modis_statistics_results.csv'\n",
    "df.to_csv(csv_filename, index=False)\n",
    "print(f'Results saved to {csv_filename}')"
   ]
  },
  {
   "cell_type": "markdown",
   "id": "221b4018-5251-487a-8829-d5aea11ff347",
   "metadata": {},
   "source": [
    "# calculate the correlation "
   ]
  },
  {
   "cell_type": "code",
   "execution_count": 19,
   "id": "4a6da1e9-bcc7-49b4-b944-9b0baf203300",
   "metadata": {},
   "outputs": [
    {
     "data": {
      "text/html": [
       "<div>\n",
       "<style scoped>\n",
       "    .dataframe tbody tr th:only-of-type {\n",
       "        vertical-align: middle;\n",
       "    }\n",
       "\n",
       "    .dataframe tbody tr th {\n",
       "        vertical-align: top;\n",
       "    }\n",
       "\n",
       "    .dataframe thead th {\n",
       "        text-align: right;\n",
       "    }\n",
       "</style>\n",
       "<table border=\"1\" class=\"dataframe\">\n",
       "  <thead>\n",
       "    <tr style=\"text-align: right;\">\n",
       "      <th></th>\n",
       "      <th>longitude</th>\n",
       "      <th>latitude</th>\n",
       "      <th>sur_refl_b01</th>\n",
       "      <th>sur_refl_b02</th>\n",
       "      <th>sur_refl_b03</th>\n",
       "      <th>sur_refl_b04</th>\n",
       "      <th>sur_refl_b05</th>\n",
       "      <th>sur_refl_b06</th>\n",
       "      <th>sur_refl_b07</th>\n",
       "    </tr>\n",
       "  </thead>\n",
       "  <tbody>\n",
       "    <tr>\n",
       "      <th>0</th>\n",
       "      <td>30.488472</td>\n",
       "      <td>31.173472</td>\n",
       "      <td>734</td>\n",
       "      <td>3167</td>\n",
       "      <td>448</td>\n",
       "      <td>776</td>\n",
       "      <td>2741</td>\n",
       "      <td>1866</td>\n",
       "      <td>981</td>\n",
       "    </tr>\n",
       "    <tr>\n",
       "      <th>1</th>\n",
       "      <td>30.524722</td>\n",
       "      <td>31.151861</td>\n",
       "      <td>879</td>\n",
       "      <td>3139</td>\n",
       "      <td>495</td>\n",
       "      <td>909</td>\n",
       "      <td>2913</td>\n",
       "      <td>1957</td>\n",
       "      <td>1165</td>\n",
       "    </tr>\n",
       "    <tr>\n",
       "      <th>2</th>\n",
       "      <td>30.566028</td>\n",
       "      <td>31.130972</td>\n",
       "      <td>890</td>\n",
       "      <td>3036</td>\n",
       "      <td>490</td>\n",
       "      <td>864</td>\n",
       "      <td>2754</td>\n",
       "      <td>1987</td>\n",
       "      <td>1204</td>\n",
       "    </tr>\n",
       "    <tr>\n",
       "      <th>3</th>\n",
       "      <td>30.647556</td>\n",
       "      <td>31.077806</td>\n",
       "      <td>871</td>\n",
       "      <td>2739</td>\n",
       "      <td>476</td>\n",
       "      <td>789</td>\n",
       "      <td>2605</td>\n",
       "      <td>1858</td>\n",
       "      <td>1174</td>\n",
       "    </tr>\n",
       "    <tr>\n",
       "      <th>4</th>\n",
       "      <td>30.734028</td>\n",
       "      <td>31.028500</td>\n",
       "      <td>795</td>\n",
       "      <td>2775</td>\n",
       "      <td>479</td>\n",
       "      <td>887</td>\n",
       "      <td>2363</td>\n",
       "      <td>1862</td>\n",
       "      <td>1125</td>\n",
       "    </tr>\n",
       "  </tbody>\n",
       "</table>\n",
       "</div>"
      ],
      "text/plain": [
       "   longitude   latitude  sur_refl_b01  sur_refl_b02  sur_refl_b03  \\\n",
       "0  30.488472  31.173472           734          3167           448   \n",
       "1  30.524722  31.151861           879          3139           495   \n",
       "2  30.566028  31.130972           890          3036           490   \n",
       "3  30.647556  31.077806           871          2739           476   \n",
       "4  30.734028  31.028500           795          2775           479   \n",
       "\n",
       "   sur_refl_b04  sur_refl_b05  sur_refl_b06  sur_refl_b07  \n",
       "0           776          2741          1866           981  \n",
       "1           909          2913          1957          1165  \n",
       "2           864          2754          1987          1204  \n",
       "3           789          2605          1858          1174  \n",
       "4           887          2363          1862          1125  "
      ]
     },
     "execution_count": 19,
     "metadata": {},
     "output_type": "execute_result"
    }
   ],
   "source": [
    "data=pd.read_csv('modis_statistics_results.csv')\n",
    "data.head()"
   ]
  },
  {
   "cell_type": "code",
   "execution_count": 20,
   "id": "aa1bcc19-4a0e-44d3-9751-6dff3609b0b1",
   "metadata": {},
   "outputs": [],
   "source": [
    "# add the HM concentration column to df\n",
    "data['HM']=[\n",
    "384.9,\n",
    "318.3,\n",
    "342.4,\n",
    "440.8,\n",
    "397.6,\n",
    "380.4,\n",
    "381.2,\n",
    "414.5,\n",
    "333.9,\n",
    "362.8,\n",
    "366.9,\n",
    "407.6,\n",
    "373.5,\n",
    "382.0,\n",
    "385.6,\n",
    "356.8,\n",
    "293.4,\n",
    "332.1,\n",
    "363.2,\n",
    "429.9,\n",
    "378.6,\n",
    "419.2,\n",
    "399.6,\n",
    "189.0,\n",
    "427.1,\n",
    "429.2,\n",
    "392.4,\n",
    "387.6,\n",
    "437.0,\n",
    "444.5,\n",
    "410.6,\n",
    "453.4,\n",
    "409.2,\n",
    "448.0,\n",
    "376.7,\n",
    "395.0,\n",
    "397.7,\n",
    "347.8,\n",
    "328.7,\n",
    "292.1,\n",
    "222.7,\n",
    "152.0,\n",
    "141.5,\n",
    "287.4,\n",
    "340.4,\n",
    "318.1,\n",
    "309.6,\n",
    "325.8,\n",
    "246.8,\n",
    "231.3,\n",
    "326.1,\n",
    "276.7,\n",
    "340.9]"
   ]
  },
  {
   "cell_type": "code",
   "execution_count": 21,
   "id": "f8a718f9-8570-465d-bb0a-74fe699d10be",
   "metadata": {},
   "outputs": [
    {
     "name": "stdout",
     "output_type": "stream",
     "text": [
      "longitude      -0.457153\n",
      "latitude        0.234361\n",
      "sur_refl_b01   -0.465879\n",
      "sur_refl_b02    0.039542\n",
      "sur_refl_b03   -0.350594\n",
      "sur_refl_b04   -0.279618\n",
      "sur_refl_b05   -0.240350\n",
      "sur_refl_b06   -0.521914\n",
      "sur_refl_b07   -0.548129\n",
      "HM              1.000000\n",
      "Name: HM, dtype: float64\n"
     ]
    }
   ],
   "source": [
    "# split the target(HM) and get correlation between it and features(bands)\n",
    "target='HM'\n",
    "#pearson correlation\n",
    "corr=data.corr()[target]\n",
    "print(corr)"
   ]
  },
  {
   "cell_type": "code",
   "execution_count": 22,
   "id": "83f5a9ab-2f7a-47a0-8ba7-4c354dfff3da",
   "metadata": {},
   "outputs": [
    {
     "name": "stdout",
     "output_type": "stream",
     "text": [
      "longitude      -0.338978\n",
      "latitude        0.209160\n",
      "sur_refl_b01   -0.468359\n",
      "sur_refl_b02    0.165786\n",
      "sur_refl_b03   -0.418903\n",
      "sur_refl_b04   -0.224449\n",
      "sur_refl_b05   -0.070436\n",
      "sur_refl_b06   -0.444382\n",
      "sur_refl_b07   -0.586139\n",
      "HM              1.000000\n",
      "Name: HM, dtype: float64\n"
     ]
    }
   ],
   "source": [
    "# get spearman correlation\n",
    "corr=data.corr(method='spearman')[target]\n",
    "print(corr)"
   ]
  },
  {
   "cell_type": "code",
   "execution_count": 23,
   "id": "352ec9d4-8270-400d-a645-2f1367228087",
   "metadata": {},
   "outputs": [
    {
     "name": "stdout",
     "output_type": "stream",
     "text": [
      "longitude      -0.238026\n",
      "latitude        0.166909\n",
      "sur_refl_b01   -0.323519\n",
      "sur_refl_b02    0.132171\n",
      "sur_refl_b03   -0.293198\n",
      "sur_refl_b04   -0.137981\n",
      "sur_refl_b05   -0.035598\n",
      "sur_refl_b06   -0.294844\n",
      "sur_refl_b07   -0.392157\n",
      "HM              1.000000\n",
      "Name: HM, dtype: float64\n"
     ]
    }
   ],
   "source": [
    "#kendall corr\n",
    "corr2=data.corr(method='kendall')[target]\n",
    "print(corr2)"
   ]
  },
  {
   "cell_type": "code",
   "execution_count": 24,
   "id": "abef97bb-d77b-4169-93a9-2a96f1b5e162",
   "metadata": {},
   "outputs": [
    {
     "name": "stdout",
     "output_type": "stream",
     "text": [
      "Correlation matrix:\n",
      " [[ 1.         -0.23913746  0.47576693 -0.16845993  0.37193423  0.29476004\n",
      "   0.08102005  0.48614753  0.46895899 -0.4571532 ]\n",
      " [-0.23913746  1.         -0.10380973  0.44313573 -0.04453181  0.0758603\n",
      "   0.34067603 -0.02851672 -0.24178631  0.2343615 ]\n",
      " [ 0.47576693 -0.10380973  1.         -0.18034639  0.93447776  0.85566787\n",
      "   0.09404469  0.76338988  0.92332605 -0.4658789 ]\n",
      " [-0.16845993  0.44313573 -0.18034639  1.         -0.09094514  0.23460938\n",
      "   0.84920813  0.1604612  -0.30911047  0.03954229]\n",
      " [ 0.37193423 -0.04453181  0.93447776 -0.09094514  1.          0.89541522\n",
      "   0.11968469  0.71540942  0.82873934 -0.35059424]\n",
      " [ 0.29476004  0.0758603   0.85566787  0.23460938  0.89541522  1.\n",
      "   0.37045296  0.72810548  0.70400378 -0.27961819]\n",
      " [ 0.08102005  0.34067603  0.09404469  0.84920813  0.11968469  0.37045296\n",
      "   1.          0.52788136  0.05599781 -0.24035016]\n",
      " [ 0.48614753 -0.02851672  0.76338988  0.1604612   0.71540942  0.72810548\n",
      "   0.52788136  1.          0.81136064 -0.52191406]\n",
      " [ 0.46895899 -0.24178631  0.92332605 -0.30911047  0.82873934  0.70400378\n",
      "   0.05599781  0.81136064  1.         -0.54812914]\n",
      " [-0.4571532   0.2343615  -0.4658789   0.03954229 -0.35059424 -0.27961819\n",
      "  -0.24035016 -0.52191406 -0.54812914  1.        ]]\n"
     ]
    }
   ],
   "source": [
    "# numpy correlation\n",
    "x=data.drop(columns='HM')\n",
    "y=data['HM']\n",
    "# Calculate the correlation only if they have the same number of rows\n",
    "if x.shape[0] == y.shape[0]:\n",
    "    correlation_matrix = np.corrcoef(x.T, y)  # Transpose x to have features as rows\n",
    "    print(\"Correlation matrix:\\n\", correlation_matrix)\n",
    "else:\n",
    "    print(\"Shape mismatch: Cannot calculate correlation.\")"
   ]
  },
  {
   "cell_type": "code",
   "execution_count": 25,
   "id": "3ecf8b7c-780c-40a7-a194-22fb2c2c339f",
   "metadata": {},
   "outputs": [
    {
     "data": {
      "image/png": "[encoded data removed]",
      "text/plain": [
       "<Figure size 1000x600 with 2 Axes>"
      ]
     },
     "metadata": {},
     "output_type": "display_data"
    }
   ],
   "source": [
    "# Visualize the correlation using a heatmap to numpy correlation\n",
    "plt.figure(figsize=(10, 6))\n",
    "sns.heatmap(correlation_matrix, annot=True, cmap='coolwarm', fmt=\".2f\", square=True)\n",
    "plt.title(\"Correlation Heatmap\")\n",
    "plt.show()"
   ]
  },
  {
   "cell_type": "code",
   "execution_count": null,
   "id": "98aa5b1b-cd1f-42f3-a8c8-cb5765217624",
   "metadata": {},
   "outputs": [],
   "source": []
  }
 ],
 "metadata": {
  "kernelspec": {
   "display_name": "Python 3 (ipykernel)",
   "language": "python",
   "name": "python3"
  },
  "language_info": {
   "codemirror_mode": {
    "name": "ipython",
    "version": 3
   },
   "file_extension": ".py",
   "mimetype": "text/x-python",
   "name": "python",
   "nbconvert_exporter": "python",
   "pygments_lexer": "ipython3",
   "version": "3.12.4"
  }
 },
 "nbformat": 4,
 "nbformat_minor": 5
}
